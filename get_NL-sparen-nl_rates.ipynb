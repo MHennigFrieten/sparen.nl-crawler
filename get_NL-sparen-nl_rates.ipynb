{
 "cells": [
  {
   "cell_type": "code",
   "execution_count": 1,
   "metadata": {},
   "outputs": [],
   "source": [
    "from selenium import webdriver\n",
    "from selenium.webdriver.support.ui import WebDriverWait\n",
    "from selenium.webdriver.support import expected_conditions as EC\n",
    "from selenium.webdriver.common.by import By\n",
    "from selenium.webdriver.common.keys import Keys\n",
    "from selenium.common.exceptions import StaleElementReferenceException, NoSuchElementException, ElementClickInterceptedException\n",
    "from bs4 import BeautifulSoup\n",
    "\n",
    "import pandas as pd\n",
    "import re\n",
    "import os\n",
    "import glob\n",
    "import time\n",
    "from datetime import datetime as dt"
   ]
  },
  {
   "cell_type": "code",
   "execution_count": 236,
   "metadata": {},
   "outputs": [],
   "source": [
    "def prepare_webpage(driver,time_sleep=2):\n",
    "    # check checkbox to show restricted offers\n",
    "    while True:\n",
    "        try:\n",
    "            driver.find_element(By.XPATH, \"//div[@id='cookiescript_accept']\").click()\n",
    "            break\n",
    "        except NoSuchElementException:\n",
    "            break\n",
    "        except ElementClickInterceptedException:\n",
    "            pass\n",
    "    time.sleep(time_sleep)\n",
    "    \n",
    "    # load all offers by clicking on \"more\" button until it disappears\n",
    "    try:\n",
    "        driver.find_element(By.XPATH, \"//span[@id='showAll']\").click()\n",
    "        time.sleep(time_sleep)\n",
    "    except:\n",
    "        pass"
   ]
  },
  {
   "cell_type": "code",
   "execution_count": 256,
   "metadata": {},
   "outputs": [],
   "source": [
    "def scrape_offers(html, maturity=''):\n",
    "    soup = BeautifulSoup(html, 'lxml')\n",
    "    bank_names = [name['alt'] for name in soup.find_all('img', {'loading': 'lazy'})]\n",
    "    interest_rates = [rate.text.strip() for rate in soup.find_all('span', {'class': 'rente'})]\n",
    "    countries = [country.text.split(maxsplit=1)[1] for country in soup.find_all('div', {'class': 'block-kenmerk block-garantie'})]\n",
    "    \n",
    "    if maturity=='':\n",
    "        maturity = [term.text.split(maxsplit=1)[1] for term in soup.find_all('div', {'class': 'block-kenmerk second'})]\n",
    "    \n",
    "    df = pd.DataFrame({'bank_name': bank_names,\n",
    "                       'country': countries,\n",
    "                       'maturity_months': maturity,\n",
    "                      'interest_rate': interest_rates,\n",
    "                      'timestamp': dt.now().time().replace(microsecond=0)})\n",
    "    return df"
   ]
  },
  {
   "cell_type": "code",
   "execution_count": 5,
   "metadata": {},
   "outputs": [],
   "source": [
    "def get_platform(x):\n",
    "    try:\n",
    "        if re.compile(r\"Savedo\").search(x):\n",
    "            platform = re.compile(r\"Savedo\").search(x).group(0)\n",
    "        else:\n",
    "            platform = re.compile(r\"Raisin\").search(x).group(0)\n",
    "    except:\n",
    "        platform = 'none'\n",
    "        \n",
    "    return platform"
   ]
  },
  {
   "cell_type": "code",
   "execution_count": 333,
   "metadata": {},
   "outputs": [],
   "source": [
    "def translate_maturity(x):\n",
    "    try:\n",
    "        if x.split()[-1].strip() == 'jaar':\n",
    "            maturity_months = int(x.split()[0].strip()) * 12\n",
    "        else:\n",
    "            maturity_months = int(x.split()[0].strip())\n",
    "    except:\n",
    "        maturity_months = x\n",
    "            \n",
    "    return maturity_months"
   ]
  },
  {
   "cell_type": "code",
   "execution_count": 334,
   "metadata": {},
   "outputs": [],
   "source": [
    "driver = webdriver.Chrome()\n",
    "driver.maximize_window()"
   ]
  },
  {
   "cell_type": "code",
   "execution_count": 335,
   "metadata": {},
   "outputs": [],
   "source": [
    "time_sleep = 2"
   ]
  },
  {
   "cell_type": "markdown",
   "metadata": {},
   "source": [
    "### Savings accounts"
   ]
  },
  {
   "cell_type": "code",
   "execution_count": 336,
   "metadata": {},
   "outputs": [],
   "source": [
    "url = \"https://www.sparen.nl/vergelijken\""
   ]
  },
  {
   "cell_type": "code",
   "execution_count": 337,
   "metadata": {},
   "outputs": [],
   "source": [
    "driver.get(url)\n",
    "time.sleep(time_sleep)"
   ]
  },
  {
   "cell_type": "code",
   "execution_count": 338,
   "metadata": {},
   "outputs": [],
   "source": [
    "prepare_webpage(driver)"
   ]
  },
  {
   "cell_type": "code",
   "execution_count": 339,
   "metadata": {},
   "outputs": [],
   "source": [
    "savings = scrape_offers(html=driver.page_source, maturity=0)"
   ]
  },
  {
   "cell_type": "markdown",
   "metadata": {},
   "source": [
    "### Fixed-term deposits"
   ]
  },
  {
   "cell_type": "code",
   "execution_count": 340,
   "metadata": {},
   "outputs": [],
   "source": [
    "url = \"https://www.sparen.nl/vergelijken/deposito\""
   ]
  },
  {
   "cell_type": "code",
   "execution_count": 341,
   "metadata": {},
   "outputs": [],
   "source": [
    "driver.get(url)\n",
    "time.sleep(time_sleep)"
   ]
  },
  {
   "cell_type": "code",
   "execution_count": 342,
   "metadata": {},
   "outputs": [],
   "source": [
    "list_fixed_df = []\n",
    "terms_count = driver.find_elements(By.XPATH, \"//label[contains(@for,'radioLooptijd')]\")"
   ]
  },
  {
   "cell_type": "code",
   "execution_count": 343,
   "metadata": {},
   "outputs": [],
   "source": [
    "for n in range(len(terms_count)):\n",
    "    term_buttons = driver.find_elements(By.XPATH, \"//label[contains(@for,'radioLooptijd')]\")\n",
    "    term_buttons[n].click()\n",
    "    time.sleep(time_sleep)\n",
    "    \n",
    "    prepare_webpage(driver)\n",
    "    \n",
    "    fixed_df = scrape_offers(html=driver.page_source)\n",
    "    list_fixed_df.append(fixed_df)"
   ]
  },
  {
   "cell_type": "code",
   "execution_count": 344,
   "metadata": {},
   "outputs": [],
   "source": [
    "fixed_normal = pd.concat(list_fixed_df)"
   ]
  },
  {
   "cell_type": "markdown",
   "metadata": {},
   "source": [
    "### Clean data"
   ]
  },
  {
   "cell_type": "code",
   "execution_count": 345,
   "metadata": {},
   "outputs": [],
   "source": [
    "df = pd.concat([savings,fixed_normal])"
   ]
  },
  {
   "cell_type": "code",
   "execution_count": 346,
   "metadata": {},
   "outputs": [],
   "source": [
    "df['interest_rate'] = pd.to_numeric(df['interest_rate'].str.split(' %', expand = True)[0].str.replace(\",\", \".\"))"
   ]
  },
  {
   "cell_type": "code",
   "execution_count": 347,
   "metadata": {},
   "outputs": [],
   "source": [
    "df['country']=df['country'].str.strip()"
   ]
  },
  {
   "cell_type": "code",
   "execution_count": 348,
   "metadata": {},
   "outputs": [],
   "source": [
    "country_names_eng = {'Duitsland': 'Germany',\n",
    "                    'Nederland': 'Netherlands', \n",
    "                     'België': 'Belgium', \n",
    "                     'Letland': 'Latvia', \n",
    "                     'Italië': 'Italy', \n",
    "                     'Estland': 'Estonia',\n",
    "                     'Slowakije': 'Slovakia', \n",
    "                     'Polen': 'Poland', \n",
    "                     'Kroatië': 'Croatia', \n",
    "                     'Tsjechië': 'Czech Republic',\n",
    "                     'Ierland': 'Ireland',\n",
    "                     'Spanje': 'Spain',\n",
    "                     'Frankrijk': 'France',\n",
    "                     'Zweden': 'Sweden',\n",
    "                     'Litouwen': 'Lithuania',\n",
    "                    'Oostenrijk': 'Austria'}"
   ]
  },
  {
   "cell_type": "markdown",
   "metadata": {},
   "source": [
    "missing_country_banks = {'Brand New Day': 'Netherlands',\n",
    "                        'ING': 'Netherlands',\n",
    "                        'Evi van Lanschot': 'Netherlands',\n",
    "                        'DELA': 'Netherlands',\n",
    "                        'GarantiBank': 'Netherlands', \n",
    "                        'ABN AMRO': 'Netherlands', \n",
    "                        'Rabobank': 'Netherlands',\n",
    "                        'Banca Progetto (via Raisin)': 'Italy', \n",
    "                        'Coop Pank (via Raisin)': 'Estonia',\n",
    "                        'Euram Bank (via Raisin)': 'Austria', \n",
    "                         'CiviBank (via Raisin)': 'Italy',\n",
    "                         'North Channel Bank (via Raisin)': 'Germany', \n",
    "                         'J&T Banka (via Savedo)': 'Czech Republic'}"
   ]
  },
  {
   "cell_type": "code",
   "execution_count": 349,
   "metadata": {},
   "outputs": [],
   "source": [
    "df['country'] = df['country'].replace(country_names_eng)"
   ]
  },
  {
   "cell_type": "code",
   "execution_count": 350,
   "metadata": {},
   "outputs": [],
   "source": [
    "df['platform'] = df['bank_name'].apply(get_platform)"
   ]
  },
  {
   "cell_type": "code",
   "execution_count": 351,
   "metadata": {},
   "outputs": [],
   "source": [
    "df['date'] = dt.now().date()"
   ]
  },
  {
   "cell_type": "code",
   "execution_count": 361,
   "metadata": {},
   "outputs": [],
   "source": [
    "df['maturity_months']=df['maturity_months'].apply(translate_maturity)"
   ]
  },
  {
   "cell_type": "code",
   "execution_count": 362,
   "metadata": {},
   "outputs": [],
   "source": [
    "df.drop_duplicates(inplace = True)"
   ]
  },
  {
   "cell_type": "code",
   "execution_count": 363,
   "metadata": {},
   "outputs": [],
   "source": [
    "df = df[['date', 'bank_name', 'country', 'maturity_months', 'interest_rate',  'platform', 'timestamp']]"
   ]
  },
  {
   "cell_type": "code",
   "execution_count": 364,
   "metadata": {},
   "outputs": [],
   "source": [
    "df.sort_values(['bank_name', 'maturity_months'], inplace=True)"
   ]
  },
  {
   "cell_type": "markdown",
   "metadata": {},
   "source": [
    "### Store as csv file"
   ]
  },
  {
   "cell_type": "code",
   "execution_count": 365,
   "metadata": {},
   "outputs": [],
   "source": [
    "path = '../Interest Rates/NL_sparen.nl/'\n",
    "filename=str(dt.now().strftime(\"%Y%m%d_%H-%M\"))  + '_scrape.csv'\n",
    "df.to_csv(os.path.join(path,filename),encoding='utf-8-sig',index=False)"
   ]
  },
  {
   "cell_type": "code",
   "execution_count": 366,
   "metadata": {},
   "outputs": [
    {
     "ename": "InvalidSessionIdException",
     "evalue": "Message: invalid session id\nStacktrace:\n\tGetHandleVerifier [0x00007FF627BB4D02+56194]\n\t(No symbol) [0x00007FF627B204B2]\n\t(No symbol) [0x00007FF6279C74C3]\n\t(No symbol) [0x00007FF627A03F9A]\n\t(No symbol) [0x00007FF627A35D59]\n\t(No symbol) [0x00007FF627A2EB12]\n\t(No symbol) [0x00007FF627A2E44F]\n\t(No symbol) [0x00007FF627996315]\n\tGetHandleVerifier [0x00007FF627F2D5BB+3695675]\n\tGetHandleVerifier [0x00007FF627F86197+4059159]\n\tGetHandleVerifier [0x00007FF627F7DF63+4025827]\n\tGetHandleVerifier [0x00007FF627C4F029+687785]\n\t(No symbol) [0x00007FF627B2B508]\n\t(No symbol) [0x00007FF627995103]\n\tGetHandleVerifier [0x00007FF627FCD4A8+4350760]\n\tBaseThreadInitThunk [0x00007FF8DF45257D+29]\n\tRtlUserThreadStart [0x00007FF8DF5EAA58+40]\n",
     "output_type": "error",
     "traceback": [
      "\u001b[1;31m---------------------------------------------------------------------------\u001b[0m",
      "\u001b[1;31mInvalidSessionIdException\u001b[0m                 Traceback (most recent call last)",
      "Input \u001b[1;32mIn [366]\u001b[0m, in \u001b[0;36m<cell line: 1>\u001b[1;34m()\u001b[0m\n\u001b[1;32m----> 1\u001b[0m \u001b[43mdriver\u001b[49m\u001b[38;5;241;43m.\u001b[39;49m\u001b[43mclose\u001b[49m\u001b[43m(\u001b[49m\u001b[43m)\u001b[49m\n",
      "File \u001b[1;32m~\\anaconda3\\lib\\site-packages\\selenium\\webdriver\\remote\\webdriver.py:937\u001b[0m, in \u001b[0;36mWebDriver.close\u001b[1;34m(self)\u001b[0m\n\u001b[0;32m    928\u001b[0m \u001b[38;5;28;01mdef\u001b[39;00m \u001b[38;5;21mclose\u001b[39m(\u001b[38;5;28mself\u001b[39m) \u001b[38;5;241m-\u001b[39m\u001b[38;5;241m>\u001b[39m \u001b[38;5;28;01mNone\u001b[39;00m:\n\u001b[0;32m    929\u001b[0m     \u001b[38;5;124;03m\"\"\"\u001b[39;00m\n\u001b[0;32m    930\u001b[0m \u001b[38;5;124;03m    Closes the current window.\u001b[39;00m\n\u001b[0;32m    931\u001b[0m \n\u001b[1;32m   (...)\u001b[0m\n\u001b[0;32m    935\u001b[0m \u001b[38;5;124;03m            driver.close()\u001b[39;00m\n\u001b[0;32m    936\u001b[0m \u001b[38;5;124;03m    \"\"\"\u001b[39;00m\n\u001b[1;32m--> 937\u001b[0m     \u001b[38;5;28;43mself\u001b[39;49m\u001b[38;5;241;43m.\u001b[39;49m\u001b[43mexecute\u001b[49m\u001b[43m(\u001b[49m\u001b[43mCommand\u001b[49m\u001b[38;5;241;43m.\u001b[39;49m\u001b[43mCLOSE\u001b[49m\u001b[43m)\u001b[49m\n",
      "File \u001b[1;32m~\\anaconda3\\lib\\site-packages\\selenium\\webdriver\\remote\\webdriver.py:424\u001b[0m, in \u001b[0;36mWebDriver.execute\u001b[1;34m(self, driver_command, params)\u001b[0m\n\u001b[0;32m    422\u001b[0m response \u001b[38;5;241m=\u001b[39m \u001b[38;5;28mself\u001b[39m\u001b[38;5;241m.\u001b[39mcommand_executor\u001b[38;5;241m.\u001b[39mexecute(driver_command, params)\n\u001b[0;32m    423\u001b[0m \u001b[38;5;28;01mif\u001b[39;00m response:\n\u001b[1;32m--> 424\u001b[0m     \u001b[38;5;28;43mself\u001b[39;49m\u001b[38;5;241;43m.\u001b[39;49m\u001b[43merror_handler\u001b[49m\u001b[38;5;241;43m.\u001b[39;49m\u001b[43mcheck_response\u001b[49m\u001b[43m(\u001b[49m\u001b[43mresponse\u001b[49m\u001b[43m)\u001b[49m\n\u001b[0;32m    425\u001b[0m     response[\u001b[38;5;124m'\u001b[39m\u001b[38;5;124mvalue\u001b[39m\u001b[38;5;124m'\u001b[39m] \u001b[38;5;241m=\u001b[39m \u001b[38;5;28mself\u001b[39m\u001b[38;5;241m.\u001b[39m_unwrap_value(\n\u001b[0;32m    426\u001b[0m         response\u001b[38;5;241m.\u001b[39mget(\u001b[38;5;124m'\u001b[39m\u001b[38;5;124mvalue\u001b[39m\u001b[38;5;124m'\u001b[39m, \u001b[38;5;28;01mNone\u001b[39;00m))\n\u001b[0;32m    427\u001b[0m     \u001b[38;5;28;01mreturn\u001b[39;00m response\n",
      "File \u001b[1;32m~\\anaconda3\\lib\\site-packages\\selenium\\webdriver\\remote\\errorhandler.py:247\u001b[0m, in \u001b[0;36mErrorHandler.check_response\u001b[1;34m(self, response)\u001b[0m\n\u001b[0;32m    245\u001b[0m         alert_text \u001b[38;5;241m=\u001b[39m value[\u001b[38;5;124m'\u001b[39m\u001b[38;5;124malert\u001b[39m\u001b[38;5;124m'\u001b[39m]\u001b[38;5;241m.\u001b[39mget(\u001b[38;5;124m'\u001b[39m\u001b[38;5;124mtext\u001b[39m\u001b[38;5;124m'\u001b[39m)\n\u001b[0;32m    246\u001b[0m     \u001b[38;5;28;01mraise\u001b[39;00m exception_class(message, screen, stacktrace, alert_text)  \u001b[38;5;66;03m# type: ignore[call-arg]  # mypy is not smart enough here\u001b[39;00m\n\u001b[1;32m--> 247\u001b[0m \u001b[38;5;28;01mraise\u001b[39;00m exception_class(message, screen, stacktrace)\n",
      "\u001b[1;31mInvalidSessionIdException\u001b[0m: Message: invalid session id\nStacktrace:\n\tGetHandleVerifier [0x00007FF627BB4D02+56194]\n\t(No symbol) [0x00007FF627B204B2]\n\t(No symbol) [0x00007FF6279C74C3]\n\t(No symbol) [0x00007FF627A03F9A]\n\t(No symbol) [0x00007FF627A35D59]\n\t(No symbol) [0x00007FF627A2EB12]\n\t(No symbol) [0x00007FF627A2E44F]\n\t(No symbol) [0x00007FF627996315]\n\tGetHandleVerifier [0x00007FF627F2D5BB+3695675]\n\tGetHandleVerifier [0x00007FF627F86197+4059159]\n\tGetHandleVerifier [0x00007FF627F7DF63+4025827]\n\tGetHandleVerifier [0x00007FF627C4F029+687785]\n\t(No symbol) [0x00007FF627B2B508]\n\t(No symbol) [0x00007FF627995103]\n\tGetHandleVerifier [0x00007FF627FCD4A8+4350760]\n\tBaseThreadInitThunk [0x00007FF8DF45257D+29]\n\tRtlUserThreadStart [0x00007FF8DF5EAA58+40]\n"
     ]
    }
   ],
   "source": [
    "driver.close()"
   ]
  },
  {
   "cell_type": "code",
   "execution_count": 367,
   "metadata": {},
   "outputs": [
    {
     "data": {
      "text/html": [
       "<div>\n",
       "<style scoped>\n",
       "    .dataframe tbody tr th:only-of-type {\n",
       "        vertical-align: middle;\n",
       "    }\n",
       "\n",
       "    .dataframe tbody tr th {\n",
       "        vertical-align: top;\n",
       "    }\n",
       "\n",
       "    .dataframe thead th {\n",
       "        text-align: right;\n",
       "    }\n",
       "</style>\n",
       "<table border=\"1\" class=\"dataframe\">\n",
       "  <thead>\n",
       "    <tr style=\"text-align: right;\">\n",
       "      <th></th>\n",
       "      <th>date</th>\n",
       "      <th>bank_name</th>\n",
       "      <th>country</th>\n",
       "      <th>maturity_months</th>\n",
       "      <th>interest_rate</th>\n",
       "      <th>platform</th>\n",
       "      <th>timestamp</th>\n",
       "    </tr>\n",
       "  </thead>\n",
       "  <tbody>\n",
       "    <tr>\n",
       "      <th>34</th>\n",
       "      <td>2024-02-01</td>\n",
       "      <td>ABN AMRO</td>\n",
       "      <td>Netherlands</td>\n",
       "      <td>0</td>\n",
       "      <td>1.50</td>\n",
       "      <td>none</td>\n",
       "      <td>17:02:40</td>\n",
       "    </tr>\n",
       "    <tr>\n",
       "      <th>34</th>\n",
       "      <td>2024-02-01</td>\n",
       "      <td>ABN AMRO</td>\n",
       "      <td>Netherlands</td>\n",
       "      <td>12</td>\n",
       "      <td>2.35</td>\n",
       "      <td>none</td>\n",
       "      <td>17:03:05</td>\n",
       "    </tr>\n",
       "    <tr>\n",
       "      <th>34</th>\n",
       "      <td>2024-02-01</td>\n",
       "      <td>ABN AMRO</td>\n",
       "      <td>Netherlands</td>\n",
       "      <td>24</td>\n",
       "      <td>2.35</td>\n",
       "      <td>none</td>\n",
       "      <td>17:03:11</td>\n",
       "    </tr>\n",
       "    <tr>\n",
       "      <th>32</th>\n",
       "      <td>2024-02-01</td>\n",
       "      <td>ABN AMRO</td>\n",
       "      <td>Netherlands</td>\n",
       "      <td>36</td>\n",
       "      <td>2.35</td>\n",
       "      <td>none</td>\n",
       "      <td>17:03:18</td>\n",
       "    </tr>\n",
       "    <tr>\n",
       "      <th>27</th>\n",
       "      <td>2024-02-01</td>\n",
       "      <td>ABN AMRO</td>\n",
       "      <td>Netherlands</td>\n",
       "      <td>60</td>\n",
       "      <td>2.35</td>\n",
       "      <td>none</td>\n",
       "      <td>17:03:31</td>\n",
       "    </tr>\n",
       "    <tr>\n",
       "      <th>...</th>\n",
       "      <td>...</td>\n",
       "      <td>...</td>\n",
       "      <td>...</td>\n",
       "      <td>...</td>\n",
       "      <td>...</td>\n",
       "      <td>...</td>\n",
       "      <td>...</td>\n",
       "    </tr>\n",
       "    <tr>\n",
       "      <th>26</th>\n",
       "      <td>2024-02-01</td>\n",
       "      <td>Younited (via Raisin)</td>\n",
       "      <td>France</td>\n",
       "      <td>24</td>\n",
       "      <td>2.75</td>\n",
       "      <td>Raisin</td>\n",
       "      <td>17:03:11</td>\n",
       "    </tr>\n",
       "    <tr>\n",
       "      <th>27</th>\n",
       "      <td>2024-02-01</td>\n",
       "      <td>Younited (via Raisin)</td>\n",
       "      <td>France</td>\n",
       "      <td>36</td>\n",
       "      <td>2.55</td>\n",
       "      <td>Raisin</td>\n",
       "      <td>17:03:18</td>\n",
       "    </tr>\n",
       "    <tr>\n",
       "      <th>27</th>\n",
       "      <td>2024-02-01</td>\n",
       "      <td>Younited (via Raisin)</td>\n",
       "      <td>France</td>\n",
       "      <td>48</td>\n",
       "      <td>2.35</td>\n",
       "      <td>Raisin</td>\n",
       "      <td>17:03:25</td>\n",
       "    </tr>\n",
       "    <tr>\n",
       "      <th>29</th>\n",
       "      <td>2024-02-01</td>\n",
       "      <td>Younited (via Raisin)</td>\n",
       "      <td>France</td>\n",
       "      <td>60</td>\n",
       "      <td>2.15</td>\n",
       "      <td>Raisin</td>\n",
       "      <td>17:03:31</td>\n",
       "    </tr>\n",
       "    <tr>\n",
       "      <th>18</th>\n",
       "      <td>2024-02-01</td>\n",
       "      <td>bunq</td>\n",
       "      <td>Netherlands</td>\n",
       "      <td>0</td>\n",
       "      <td>2.46</td>\n",
       "      <td>none</td>\n",
       "      <td>17:02:40</td>\n",
       "    </tr>\n",
       "  </tbody>\n",
       "</table>\n",
       "<p>321 rows × 7 columns</p>\n",
       "</div>"
      ],
      "text/plain": [
       "          date              bank_name      country  maturity_months  \\\n",
       "34  2024-02-01               ABN AMRO  Netherlands                0   \n",
       "34  2024-02-01               ABN AMRO  Netherlands               12   \n",
       "34  2024-02-01               ABN AMRO  Netherlands               24   \n",
       "32  2024-02-01               ABN AMRO  Netherlands               36   \n",
       "27  2024-02-01               ABN AMRO  Netherlands               60   \n",
       "..         ...                    ...          ...              ...   \n",
       "26  2024-02-01  Younited (via Raisin)       France               24   \n",
       "27  2024-02-01  Younited (via Raisin)       France               36   \n",
       "27  2024-02-01  Younited (via Raisin)       France               48   \n",
       "29  2024-02-01  Younited (via Raisin)       France               60   \n",
       "18  2024-02-01                   bunq  Netherlands                0   \n",
       "\n",
       "    interest_rate platform timestamp  \n",
       "34           1.50     none  17:02:40  \n",
       "34           2.35     none  17:03:05  \n",
       "34           2.35     none  17:03:11  \n",
       "32           2.35     none  17:03:18  \n",
       "27           2.35     none  17:03:31  \n",
       "..            ...      ...       ...  \n",
       "26           2.75   Raisin  17:03:11  \n",
       "27           2.55   Raisin  17:03:18  \n",
       "27           2.35   Raisin  17:03:25  \n",
       "29           2.15   Raisin  17:03:31  \n",
       "18           2.46     none  17:02:40  \n",
       "\n",
       "[321 rows x 7 columns]"
      ]
     },
     "execution_count": 367,
     "metadata": {},
     "output_type": "execute_result"
    }
   ],
   "source": [
    "df"
   ]
  },
  {
   "cell_type": "code",
   "execution_count": null,
   "metadata": {},
   "outputs": [],
   "source": []
  }
 ],
 "metadata": {
  "kernelspec": {
   "display_name": "Python 3 (ipykernel)",
   "language": "python",
   "name": "python3"
  },
  "language_info": {
   "codemirror_mode": {
    "name": "ipython",
    "version": 3
   },
   "file_extension": ".py",
   "mimetype": "text/x-python",
   "name": "python",
   "nbconvert_exporter": "python",
   "pygments_lexer": "ipython3",
   "version": "3.9.12"
  }
 },
 "nbformat": 4,
 "nbformat_minor": 2
}
